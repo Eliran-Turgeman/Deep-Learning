{
 "cells": [
  {
   "cell_type": "markdown",
   "metadata": {},
   "source": [
    "$$\n",
    "\\newcommand{\\mat}[1]{\\boldsymbol {#1}}\n",
    "\\newcommand{\\mattr}[1]{\\boldsymbol {#1}^\\top}\n",
    "\\newcommand{\\matinv}[1]{\\boldsymbol {#1}^{-1}}\n",
    "\\newcommand{\\vec}[1]{\\boldsymbol {#1}}\n",
    "\\newcommand{\\vectr}[1]{\\boldsymbol {#1}^\\top}\n",
    "\\newcommand{\\rvar}[1]{\\mathrm {#1}}\n",
    "\\newcommand{\\rvec}[1]{\\boldsymbol{\\mathrm{#1}}}\n",
    "\\newcommand{\\diag}{\\mathop{\\mathrm {diag}}}\n",
    "\\newcommand{\\set}[1]{\\mathbb {#1}}\n",
    "\\newcommand{\\norm}[1]{\\left\\lVert#1\\right\\rVert}\n",
    "\\newcommand{\\pderiv}[2]{\\frac{\\partial #1}{\\partial #2}}\n",
    "\\newcommand{\\bb}[1]{\\boldsymbol{#1}}\n",
    "$$\n",
    "# Part 3: Convolutional Architectures\n",
    "<a id=part3></a>"
   ]
  },
  {
   "cell_type": "markdown",
   "metadata": {},
   "source": [
    "In this part we will explore convolution networks and the effects of their architecture on accuracy. We'll implement a common block-based deep CNN pattern and we'll perform various experiments on it while varying the architecture. Then we'll implement our own custom architecture to see whether we can get high classification results on a large subset of CIFAR-10.\n",
    "\n",
    "Training will be performed on GPU."
   ]
  },
  {
   "cell_type": "code",
   "execution_count": 1,
   "metadata": {},
   "outputs": [],
   "source": [
    "import os\n",
    "import re\n",
    "import sys\n",
    "import glob\n",
    "import numpy as np\n",
    "import matplotlib.pyplot as plt\n",
    "import unittest\n",
    "import torch\n",
    "import torchvision\n",
    "import torchvision.transforms as tvtf\n",
    "\n",
    "%matplotlib inline\n",
    "%load_ext autoreload\n",
    "%autoreload 2"
   ]
  },
  {
   "cell_type": "code",
   "execution_count": 2,
   "metadata": {},
   "outputs": [],
   "source": [
    "seed = 42\n",
    "device = torch.device('cuda' if torch.cuda.is_available() else 'cpu')\n",
    "plt.rcParams.update({'font.size': 12})\n",
    "test = unittest.TestCase()"
   ]
  },
  {
   "cell_type": "markdown",
   "metadata": {},
   "source": [
    "## Convolutional layers and networks\n",
    "<a id=part3_1></a>"
   ]
  },
  {
   "cell_type": "markdown",
   "metadata": {},
   "source": [
    "Convolutional layers are the most essential building blocks of the state of the art deep learning image classification models and also play an important role in many other tasks.\n",
    "As we saw in the tutorial, when applied to images, convolutional layers operate on and produce volumes (3D tensors) of activations."
   ]
  },
  {
   "cell_type": "markdown",
   "metadata": {},
   "source": [
    "A convenient way to interpret convolutional layers for images is as a collection of 3D learnable filters,\n",
    "each of which operates on a small spatial region of the input volume.\n",
    "Each filter is convolved with the input volume (\"slides over it\"),\n",
    "and a dot product is computed at each location followed by a non-linearity which produces one activation.\n",
    "All these activations produce a 2D plane known as a **feature map**.\n",
    "Multiple feature maps (one for each filter) comprise the output volume.\n",
    "\n",
    "<img src=\"imgs/cnn_filters.png\" width=\"600\" />"
   ]
  },
  {
   "cell_type": "markdown",
   "metadata": {},
   "source": [
    "A crucial property of convolutional layers is their translation equivariance, i.e. shifting the input results in\n",
    "and equivalently shifted output.\n",
    "This produces the ability to detect features regardless of their spatial location in the input."
   ]
  },
  {
   "cell_type": "markdown",
   "metadata": {},
   "source": [
    "Convolutional network architectures usually follow a pattern basic repeating blocks: one or more convolution layers, each followed by a non-linearity (generally ReLU) and then a pooling layer to reduce spatial dimensions. Usually, the number of convolutional filters increases the deeper they are in the network.\n",
    "These layers are meant to extract features from the input.\n",
    "Then, one or more fully-connected layers is used to combine the extracted features into the required number of output class scores."
   ]
  },
  {
   "cell_type": "markdown",
   "metadata": {},
   "source": [
    "## Building convolutional networks with PyTorch\n",
    "<a id=part3_2></a>"
   ]
  },
  {
   "cell_type": "markdown",
   "metadata": {},
   "source": [
    "PyTorch provides all the basic building blocks needed for creating a convolutional arcitecture within the [`torch.nn`](https://pytorch.org/docs/stable/nn.html) package.\n",
    "Let's use them to create a basic convolutional network with the following architecture pattern:\n",
    "\n",
    "    [(CONV -> ACT)*P -> POOL]*(N/P) -> (FC -> ACT)*M -> FC\n",
    "\n",
    "Here $N$ is the total number of convolutional layers,\n",
    "$P$ specifies how many convolutions to perform before each pooling layer\n",
    "and $M$ specifies the number of hidden fully-connected layers before the final output layer."
   ]
  },
  {
   "cell_type": "markdown",
   "metadata": {},
   "source": [
    "**TODO**: Complete the implementaion of the `ConvClassifier` class in the `hw2/cnn.py` module.\n",
    "Use PyTorch's `nn.Conv2d` and `nn.MaxPool2d` for the convolution and pooling layers.\n",
    "It's recommended to implement the missing functionality in the order of the class' methods."
   ]
  },
  {
   "cell_type": "code",
   "execution_count": 3,
   "metadata": {},
   "outputs": [
    {
     "name": "stdout",
     "output_type": "stream",
     "text": [
      "\n",
      "=== test i=0 ===\n",
      "ConvClassifier(\n",
      "  (feature_extractor): Sequential(\n",
      "    (0): Conv2d(3, 32, kernel_size=(3, 3), stride=(1, 1), padding=(1, 1))\n",
      "    (1): ReLU()\n",
      "    (2): Conv2d(32, 32, kernel_size=(3, 3), stride=(1, 1), padding=(1, 1))\n",
      "    (3): ReLU()\n",
      "    (4): MaxPool2d(kernel_size=2, stride=2, padding=0, dilation=1, ceil_mode=False)\n",
      "    (5): Conv2d(32, 32, kernel_size=(3, 3), stride=(1, 1), padding=(1, 1))\n",
      "    (6): ReLU()\n",
      "    (7): Conv2d(32, 32, kernel_size=(3, 3), stride=(1, 1), padding=(1, 1))\n",
      "    (8): ReLU()\n",
      "    (9): MaxPool2d(kernel_size=2, stride=2, padding=0, dilation=1, ceil_mode=False)\n",
      "  )\n",
      "  (classifier): Sequential(\n",
      "    (0): Linear(in_features=20000, out_features=100, bias=True)\n",
      "    (1): ReLU()\n",
      "    (2): Linear(in_features=100, out_features=100, bias=True)\n",
      "    (3): ReLU()\n",
      "    (4): Linear(in_features=100, out_features=10, bias=True)\n",
      "  )\n",
      ")\n",
      "test_out=tensor([[-0.0868, -0.3790, -0.4341, -0.1236, -0.2160,  0.1683,  0.4739,  0.0750,\n",
      "          0.1151, -0.1606]], grad_fn=<AddmmBackward>)\n",
      "diff=0.000\n",
      "\n",
      "=== test i=1 ===\n",
      "ConvClassifier(\n",
      "  (feature_extractor): Sequential(\n",
      "    (0): Conv2d(3, 32, kernel_size=(5, 5), stride=(2, 2), padding=(3, 3))\n",
      "    (1): LeakyReLU(negative_slope=0.05)\n",
      "    (2): Conv2d(32, 32, kernel_size=(5, 5), stride=(2, 2), padding=(3, 3))\n",
      "    (3): LeakyReLU(negative_slope=0.05)\n",
      "    (4): AvgPool2d(kernel_size=3, stride=3, padding=0)\n",
      "    (5): Conv2d(32, 32, kernel_size=(5, 5), stride=(2, 2), padding=(3, 3))\n",
      "    (6): LeakyReLU(negative_slope=0.05)\n",
      "    (7): Conv2d(32, 32, kernel_size=(5, 5), stride=(2, 2), padding=(3, 3))\n",
      "    (8): LeakyReLU(negative_slope=0.05)\n",
      "    (9): AvgPool2d(kernel_size=3, stride=3, padding=0)\n",
      "  )\n",
      "  (classifier): Sequential(\n",
      "    (0): Linear(in_features=32, out_features=100, bias=True)\n",
      "    (1): LeakyReLU(negative_slope=0.05)\n",
      "    (2): Linear(in_features=100, out_features=100, bias=True)\n",
      "    (3): LeakyReLU(negative_slope=0.05)\n",
      "    (4): Linear(in_features=100, out_features=10, bias=True)\n",
      "  )\n",
      ")\n",
      "test_out=tensor([[ 0.1617,  0.0090,  0.1085, -0.0883,  0.0238, -0.1273, -0.1251, -0.0495,\n",
      "         -0.0356,  0.1318]], grad_fn=<AddmmBackward>)\n",
      "diff=0.000\n"
     ]
    }
   ],
   "source": [
    "import hw2.cnn as cnn\n",
    "\n",
    "test_params = [\n",
    "    dict(\n",
    "        in_size=(3,100,100), out_classes=10,\n",
    "        channels=[32]*4, pool_every=2, hidden_dims=[100]*2,\n",
    "        conv_params=dict(kernel_size=3, stride=1, padding=1),\n",
    "        activation_type='relu', activation_params=dict(),\n",
    "        pooling_type='max', pooling_params=dict(kernel_size=2),\n",
    "    ),\n",
    "    dict(\n",
    "        in_size=(3,100,100), out_classes=10,\n",
    "        channels=[32]*4, pool_every=2, hidden_dims=[100]*2,\n",
    "        conv_params=dict(kernel_size=5, stride=2, padding=3),\n",
    "        activation_type='lrelu', activation_params=dict(negative_slope=0.05),\n",
    "        pooling_type='avg', pooling_params=dict(kernel_size=3),\n",
    "    ),\n",
    "]\n",
    "\n",
    "for i, params in enumerate(test_params):\n",
    "    torch.manual_seed(seed)\n",
    "\n",
    "    net = cnn.ConvClassifier(**params)\n",
    "    print(f\"\\n=== test {i=} ===\")\n",
    "    print(net)\n",
    "\n",
    "    test_image = torch.randint(low=0, high=256, size=(3, 100, 100), dtype=torch.float).unsqueeze(0)\n",
    "    test_out = net(test_image)\n",
    "    print(f'{test_out=}')\n",
    "\n",
    "    expected_out = torch.load(f'tests/assets/expected_conv_out_{i:02d}.pt')\n",
    "    diff = torch.norm(test_out - expected_out).item()\n",
    "    print(f'{diff=:.3f}')\n",
    "    test.assertLess(diff, 1e-3)"
   ]
  },
  {
   "cell_type": "markdown",
   "metadata": {},
   "source": [
    "Let's load CIFAR-10 again to use as our dataset."
   ]
  },
  {
   "cell_type": "code",
   "execution_count": 4,
   "metadata": {},
   "outputs": [
    {
     "name": "stdout",
     "output_type": "stream",
     "text": [
      "Files already downloaded and verified\n",
      "Files already downloaded and verified\n",
      "Train: 50000 samples\n",
      "Test: 10000 samples\n",
      "input image size = torch.Size([3, 32, 32])\n"
     ]
    }
   ],
   "source": [
    "data_dir = os.path.expanduser('~/.pytorch-datasets')\n",
    "ds_train = torchvision.datasets.CIFAR10(root=data_dir, download=True, train=True, transform=tvtf.ToTensor())\n",
    "ds_test = torchvision.datasets.CIFAR10(root=data_dir, download=True, train=False, transform=tvtf.ToTensor())\n",
    "\n",
    "print(f'Train: {len(ds_train)} samples')\n",
    "print(f'Test: {len(ds_test)} samples')\n",
    "\n",
    "x0,_ = ds_train[0]\n",
    "in_size = x0.shape\n",
    "num_classes = 10\n",
    "print('input image size =', in_size)"
   ]
  },
  {
   "cell_type": "markdown",
   "metadata": {},
   "source": [
    "Now as usual, as a sanity test let's make sure we can overfit a tiny dataset with our model. But first we need to adapt our `Trainer` for PyTorch models."
   ]
  },
  {
   "cell_type": "markdown",
   "metadata": {},
   "source": [
    "**TODO**: Complete the implementaion of the `TorchTrainer` class in the `hw2/training.py` module."
   ]
  },
  {
   "cell_type": "code",
   "execution_count": 5,
   "metadata": {},
   "outputs": [
    {
     "name": "stdout",
     "output_type": "stream",
     "text": [
      "train_batch (Avg. Loss 2.371, Accuracy 6.0): 100%|█████████████████████████████████████| 25/25 [00:11<00:00,  2.20it/s]\n",
      "train_batch (Avg. Loss 2.238, Accuracy 16.0): 100%|███████████████████████████████████| 25/25 [00:00<00:00, 203.79it/s]\n",
      "train_batch (Avg. Loss 2.131, Accuracy 22.0): 100%|███████████████████████████████████| 25/25 [00:00<00:00, 203.83it/s]\n",
      "train_batch (Avg. Loss 1.829, Accuracy 34.0): 100%|███████████████████████████████████| 25/25 [00:00<00:00, 176.56it/s]\n",
      "train_batch (Avg. Loss 1.062, Accuracy 58.0): 100%|███████████████████████████████████| 25/25 [00:00<00:00, 222.51it/s]\n",
      "train_batch (Avg. Loss 1.183, Accuracy 62.0): 100%|███████████████████████████████████| 25/25 [00:00<00:00, 220.14it/s]\n",
      "train_batch (Avg. Loss 0.812, Accuracy 64.0): 100%|███████████████████████████████████| 25/25 [00:00<00:00, 226.63it/s]\n",
      "train_batch (Avg. Loss 0.972, Accuracy 62.0): 100%|███████████████████████████████████| 25/25 [00:00<00:00, 184.32it/s]\n",
      "train_batch (Avg. Loss 0.309, Accuracy 88.0): 100%|███████████████████████████████████| 25/25 [00:00<00:00, 221.83it/s]\n",
      "train_batch (Avg. Loss 0.028, Accuracy 100.0): 100%|██████████████████████████████████| 25/25 [00:00<00:00, 234.27it/s]\n",
      "train_batch (Avg. Loss 0.003, Accuracy 100.0): 100%|██████████████████████████████████| 25/25 [00:00<00:00, 200.53it/s]\n",
      "train_batch (Avg. Loss 0.002, Accuracy 100.0): 100%|██████████████████████████████████| 25/25 [00:00<00:00, 199.71it/s]\n",
      "train_batch (Avg. Loss 0.001, Accuracy 100.0): 100%|██████████████████████████████████| 25/25 [00:00<00:00, 214.84it/s]\n",
      "train_batch (Avg. Loss 0.001, Accuracy 100.0): 100%|██████████████████████████████████| 25/25 [00:00<00:00, 210.64it/s]\n",
      "train_batch (Avg. Loss 0.001, Accuracy 100.0): 100%|██████████████████████████████████| 25/25 [00:00<00:00, 214.59it/s]\n"
     ]
    }
   ],
   "source": [
    "import hw2.training as training\n",
    "torch.manual_seed(seed)\n",
    "\n",
    "# Define a tiny part of the CIFAR-10 dataset to overfit it\n",
    "batch_size = 2\n",
    "max_batches = 25\n",
    "dl_train = torch.utils.data.DataLoader(ds_train, batch_size, shuffle=False)\n",
    "\n",
    "# Create model, loss and optimizer instances\n",
    "model = cnn.ConvClassifier(\n",
    "    in_size, num_classes, channels=[32], pool_every=1, hidden_dims=[100],\n",
    "    conv_params=dict(kernel_size=3, stride=1, padding=1),\n",
    "    pooling_params=dict(kernel_size=2),\n",
    ")\n",
    "loss_fn = torch.nn.CrossEntropyLoss()\n",
    "optimizer = torch.optim.SGD(model.parameters(), lr=1e-2, momentum=0.9,)\n",
    "\n",
    "# Use TorchTrainer to run only the training loop a few times.\n",
    "trainer = training.TorchTrainer(model, loss_fn, optimizer, device)\n",
    "best_acc = 0\n",
    "for i in range(30):\n",
    "    res = trainer.train_epoch(dl_train, max_batches=max_batches, verbose=(i%2==0))\n",
    "    best_acc = res.accuracy if res.accuracy > best_acc else best_acc\n",
    "    \n",
    "# Test overfitting\n",
    "test.assertGreaterEqual(best_acc, 95)"
   ]
  },
  {
   "cell_type": "markdown",
   "metadata": {},
   "source": [
    "### Residual Networks"
   ]
  },
  {
   "cell_type": "markdown",
   "metadata": {},
   "source": [
    "A very common addition to the basic convolutional architecture described above are **shortcut connections**.\n",
    "First proposed by [He et al. (2016)](https://www.cv-foundation.org/openaccess/content_cvpr_2016/papers/He_Deep_Residual_Learning_CVPR_2016_paper.pdf), this simple addition has been shown to be crucial\n",
    "ingredient in order to achieve effective learning with very deep networks.\n",
    "Virtually all state of the art image classification models from recent years use this technique."
   ]
  },
  {
   "cell_type": "markdown",
   "metadata": {},
   "source": [
    "The idea is to add an shortcut, or skip, around every two or more convolutional layers:\n",
    "\n",
    "<img src=\"imgs/resnet_block2.png\" width=\"700\" />\n",
    "\n",
    "This adds an easy way for the network to learn identity mappings: set the weight values to be very small.\n",
    "The consequence is that the convolutional layers to learn a **residual** mapping, i.e. some delta that is applied\n",
    "to the identity map, instead of actually learning a completely new mapping from scratch."
   ]
  },
  {
   "cell_type": "markdown",
   "metadata": {},
   "source": [
    "Lets start by implementing a general residual block, representing a structure similar to the above diagrams.\n",
    "Our residual block will be composed of:\n",
    "- A \"main path\" with some number of convolutional layers with ReLU between them. Optionally, we'll also apply dropout and  batch normalization layers (in this order) between the convolutions, before the ReLU.\n",
    "- A \"shortcut path\" implementing an identity mapping around the main path. In case of a different number of input/output channels, the shortcut path should contain an additional `1x1` convolution to project the channel dimension.\n",
    "- The sum of the main and shortcut paths output is passed though a ReLU and returned."
   ]
  },
  {
   "cell_type": "markdown",
   "metadata": {},
   "source": [
    "**TODO**: Complete the implementation of the `ResidualBlock`'s `__init__()` method in the `hw2/cnn.py` module."
   ]
  },
  {
   "cell_type": "code",
   "execution_count": 6,
   "metadata": {},
   "outputs": [
    {
     "name": "stdout",
     "output_type": "stream",
     "text": [
      "ResidualBlock(\n",
      "  (main_path): Sequential(\n",
      "    (0): Conv2d(3, 6, kernel_size=(3, 3), stride=(1, 1), padding=(1, 1))\n",
      "    (1): Dropout2d(p=0.2, inplace=False)\n",
      "    (2): BatchNorm2d(6, eps=1e-05, momentum=0.1, affine=True, track_running_stats=True)\n",
      "    (3): ReLU()\n",
      "    (4): Conv2d(6, 4, kernel_size=(5, 5), stride=(1, 1), padding=(2, 2))\n",
      "    (5): Dropout2d(p=0.2, inplace=False)\n",
      "    (6): BatchNorm2d(4, eps=1e-05, momentum=0.1, affine=True, track_running_stats=True)\n",
      "    (7): ReLU()\n",
      "    (8): Conv2d(4, 6, kernel_size=(3, 3), stride=(1, 1), padding=(1, 1))\n",
      "    (9): Dropout2d(p=0.2, inplace=False)\n",
      "    (10): BatchNorm2d(6, eps=1e-05, momentum=0.1, affine=True, track_running_stats=True)\n",
      "    (11): ReLU()\n",
      "    (12): Conv2d(6, 4, kernel_size=(5, 5), stride=(1, 1), padding=(2, 2))\n",
      "  )\n",
      "  (shortcut_path): Sequential(\n",
      "    (0): Conv2d(3, 4, kernel_size=(1, 1), stride=(1, 1), bias=False)\n",
      "  )\n",
      ")\n",
      "test_out.shape=torch.Size([1, 4, 32, 32])\n"
     ]
    }
   ],
   "source": [
    "torch.manual_seed(seed)\n",
    "\n",
    "resblock = cnn.ResidualBlock(\n",
    "    in_channels=3, channels=[6, 4]*2, kernel_sizes=[3, 5]*2,\n",
    "    batchnorm=True, dropout=0.2\n",
    ")\n",
    "\n",
    "print(resblock)\n",
    "test_out = resblock(torch.zeros(1, 3, 32, 32))\n",
    "print(f'{test_out.shape=}')\n",
    "\n",
    "expected_out = torch.load('tests/assets/expected_resblock_out.pt')\n",
    "test.assertLess(torch.norm(test_out - expected_out).item(), 1e-3)"
   ]
  },
  {
   "cell_type": "markdown",
   "metadata": {},
   "source": [
    "Now, based on the `ResidualBlock`, we'll implement our own variation of a residual network (ResNet),\n",
    "with the following architecture:\n",
    "\n",
    "    [-> (CONV -> ACT)*P -> POOL]*(N/P) -> (FC -> ACT)*M -> FC\n",
    "     \\------- SKIP ------/\n",
    "     \n",
    "Note that $N$, $P$ and $M$ are as before, however now $P$ also controls the number of convolutional layers to add a skip-connection to."
   ]
  },
  {
   "cell_type": "markdown",
   "metadata": {},
   "source": [
    "#### Bottleneck Blocks"
   ]
  },
  {
   "cell_type": "markdown",
   "metadata": {},
   "source": [
    "In the ResNet Block diagram shown above, the right block is called a bottleneck block.\n",
    "This type of block is mainly used deep in the network, where the feature space becomes increasingly high-dimensional (i.e. there are many channels).\n",
    "\n",
    "Instead of applying a KxK conv layer on the original input channels, a bottleneck block\n",
    "first projects to a lower number of features (channels), applies the KxK conv on the result, and then projects back to the original feature space.\n",
    "Both projections are performed with 1x1 convolutions."
   ]
  },
  {
   "cell_type": "markdown",
   "metadata": {},
   "source": [
    "**TODO**: Complete the implementation of the `ResidualBottleneckBlock` in the `hw2/cnn.py` module."
   ]
  },
  {
   "cell_type": "code",
   "execution_count": 7,
   "metadata": {},
   "outputs": [
    {
     "name": "stdout",
     "output_type": "stream",
     "text": [
      "ResidualBottleneckBlock(\n",
      "  (main_path): Sequential(\n",
      "    (0): Conv2d(256, 64, kernel_size=(1, 1), stride=(1, 1))\n",
      "    (1): Dropout2d(p=0.1, inplace=False)\n",
      "    (2): LeakyReLU(negative_slope=0.01)\n",
      "    (3): Conv2d(64, 64, kernel_size=(3, 3), stride=(1, 1), padding=(1, 1))\n",
      "    (4): Dropout2d(p=0.1, inplace=False)\n",
      "    (5): LeakyReLU(negative_slope=0.01)\n",
      "    (6): Conv2d(64, 32, kernel_size=(5, 5), stride=(1, 1), padding=(2, 2))\n",
      "    (7): Dropout2d(p=0.1, inplace=False)\n",
      "    (8): LeakyReLU(negative_slope=0.01)\n",
      "    (9): Conv2d(32, 64, kernel_size=(3, 3), stride=(1, 1), padding=(1, 1))\n",
      "    (10): Dropout2d(p=0.1, inplace=False)\n",
      "    (11): LeakyReLU(negative_slope=0.01)\n",
      "    (12): Conv2d(64, 256, kernel_size=(1, 1), stride=(1, 1))\n",
      "  )\n",
      "  (shortcut_path): Sequential(\n",
      "    (0): Identity()\n",
      "  )\n",
      ")\n",
      "test_out.shape=torch.Size([1, 256, 32, 32])\n"
     ]
    }
   ],
   "source": [
    "torch.manual_seed(seed)\n",
    "\n",
    "resblock_bn = cnn.ResidualBottleneckBlock(\n",
    "    in_out_channels=256, inner_channels=[64, 32, 64], inner_kernel_sizes=[3, 5, 3],\n",
    "    batchnorm=False, dropout=0.1, activation_type=\"lrelu\"\n",
    ")\n",
    "print(resblock_bn)\n",
    "\n",
    "# Test a forward pass\n",
    "test_in  = torch.zeros(1, 256, 32, 32)\n",
    "test_out = resblock_bn(test_in)\n",
    "print(f'{test_out.shape=}')\n",
    "assert test_out.shape == test_in.shape \n",
    "\n",
    "expected_out = torch.load('tests/assets/expected_resblock_bn_out.pt')\n",
    "test.assertLess(torch.norm(test_out - expected_out).item(), 1e-3)"
   ]
  },
  {
   "cell_type": "markdown",
   "metadata": {},
   "source": [
    "**TODO**: Complete the implementation of the `ResNetClassifier` class in the `hw2/cnn.py` module.\n",
    "You must use your `ResidualBlock`s to group together every $P$ convolutional layers."
   ]
  },
  {
   "cell_type": "code",
   "execution_count": 8,
   "metadata": {},
   "outputs": [
    {
     "name": "stdout",
     "output_type": "stream",
     "text": [
      "ResNetClassifier(\n",
      "  (feature_extractor): Sequential(\n",
      "    (0): ResidualBlock(\n",
      "      (main_path): Sequential(\n",
      "        (0): Conv2d(3, 32, kernel_size=(3, 3), stride=(1, 1), padding=(1, 1))\n",
      "        (1): Dropout2d(p=0.1, inplace=False)\n",
      "        (2): BatchNorm2d(32, eps=1e-05, momentum=0.1, affine=True, track_running_stats=True)\n",
      "        (3): LeakyReLU(negative_slope=0.01)\n",
      "        (4): Conv2d(32, 64, kernel_size=(3, 3), stride=(1, 1), padding=(1, 1))\n",
      "        (5): Dropout2d(p=0.1, inplace=False)\n",
      "        (6): BatchNorm2d(64, eps=1e-05, momentum=0.1, affine=True, track_running_stats=True)\n",
      "        (7): LeakyReLU(negative_slope=0.01)\n",
      "        (8): Conv2d(64, 32, kernel_size=(3, 3), stride=(1, 1), padding=(1, 1))\n",
      "        (9): Dropout2d(p=0.1, inplace=False)\n",
      "        (10): BatchNorm2d(32, eps=1e-05, momentum=0.1, affine=True, track_running_stats=True)\n",
      "        (11): LeakyReLU(negative_slope=0.01)\n",
      "        (12): Conv2d(32, 64, kernel_size=(3, 3), stride=(1, 1), padding=(1, 1))\n",
      "      )\n",
      "      (shortcut_path): Sequential(\n",
      "        (0): Conv2d(3, 64, kernel_size=(1, 1), stride=(1, 1), bias=False)\n",
      "      )\n",
      "    )\n",
      "    (1): LeakyReLU(negative_slope=0.01)\n",
      "    (2): AvgPool2d(kernel_size=2, stride=2, padding=0)\n",
      "    (3): ResidualBlock(\n",
      "      (main_path): Sequential(\n",
      "        (0): Conv2d(64, 32, kernel_size=(3, 3), stride=(1, 1), padding=(1, 1))\n",
      "        (1): Dropout2d(p=0.1, inplace=False)\n",
      "        (2): BatchNorm2d(32, eps=1e-05, momentum=0.1, affine=True, track_running_stats=True)\n",
      "        (3): LeakyReLU(negative_slope=0.01)\n",
      "        (4): Conv2d(32, 64, kernel_size=(3, 3), stride=(1, 1), padding=(1, 1))\n",
      "      )\n",
      "      (shortcut_path): Sequential(\n",
      "        (0): Identity()\n",
      "      )\n",
      "    )\n",
      "    (4): LeakyReLU(negative_slope=0.01)\n",
      "  )\n",
      "  (classifier): Sequential(\n",
      "    (0): Linear(in_features=160000, out_features=100, bias=True)\n",
      "    (1): LeakyReLU(negative_slope=0.01)\n",
      "    (2): Linear(in_features=100, out_features=100, bias=True)\n",
      "    (3): LeakyReLU(negative_slope=0.01)\n",
      "    (4): Linear(in_features=100, out_features=10, bias=True)\n",
      "  )\n",
      ")\n",
      "out = tensor([[ 0.2462, -2.0466, 10.2188, -1.6095, -2.4464,  9.1817,  2.0589,  1.6466,\n",
      "          7.3873,  2.7356]], grad_fn=<AddmmBackward>)\n"
     ]
    }
   ],
   "source": [
    "torch.manual_seed(seed)\n",
    "\n",
    "net = cnn.ResNetClassifier(\n",
    "    in_size=(3,100,100), out_classes=10, channels=[32, 64]*3,\n",
    "    pool_every=4, hidden_dims=[100]*2,\n",
    "    activation_type='lrelu', activation_params=dict(negative_slope=0.01),\n",
    "    pooling_type='avg', pooling_params=dict(kernel_size=2),\n",
    "    batchnorm=True, dropout=0.1,\n",
    ")\n",
    "print(net)\n",
    "\n",
    "torch.manual_seed(seed)\n",
    "\n",
    "test_image = torch.randint(low=0, high=256, size=(3, 100, 100), dtype=torch.float).unsqueeze(0)\n",
    "test_out = net(test_image)\n",
    "print('out =', test_out)\n",
    "\n",
    "expected_out = torch.load('tests/assets/expected_resnet_out_nofp.pt')\n",
    "test.assertLess(\n",
    "    torch.norm(test_out - expected_out).item(), 1e-3\n",
    ")"
   ]
  },
  {
   "cell_type": "markdown",
   "metadata": {},
   "source": [
    "## Experimenting with model architectures\n",
    "<a id=part3_3></a>"
   ]
  },
  {
   "cell_type": "markdown",
   "metadata": {},
   "source": [
    "You will now perform a series of experiments that train various model configurations on a much larger part of the CIFAR-10 dataset.\n",
    "\n",
    "To perform the experiments, you'll need to use a machine with a GPU since training time might be too long otherwise.\n"
   ]
  },
  {
   "cell_type": "markdown",
   "metadata": {},
   "source": [
    "### Note about running on GPUs"
   ]
  },
  {
   "cell_type": "markdown",
   "metadata": {},
   "source": [
    "Here's an example of running a forward pass on the GPU\n",
    "(assuming you're running this notebook on a GPU-enabled machine)."
   ]
  },
  {
   "cell_type": "code",
   "execution_count": 9,
   "metadata": {},
   "outputs": [],
   "source": [
    "net = net.to(device)\n",
    "test_image = test_image.to(device)\n",
    "test_out = net(test_image)"
   ]
  },
  {
   "cell_type": "markdown",
   "metadata": {},
   "source": [
    "Notice how we called `.to(device)` on **both** the model and the input tensor.\n",
    "Here the `device` is a `torch.device` object that we created above. If an nvidia GPU is available on the machine you're running this on, the `device` will be `'cuda'`. When you run `.to(device)` on a model, it recursively goes over all the model parameter tensors and copies their memory to the GPU. Similarly, calling `.to(device)` on the input image also copies it.\n",
    "\n",
    "In order to train on a GPU, you need to make sure to move **all** your tensors to it. You'll get errors if you try to mix CPU and GPU tensors in a computation."
   ]
  },
  {
   "cell_type": "code",
   "execution_count": 10,
   "metadata": {},
   "outputs": [
    {
     "name": "stdout",
     "output_type": "stream",
     "text": [
      "This notebook is running with device=cuda\n",
      "The model parameter tensors are also on device=cuda:0\n",
      "The test image is also on device=cuda:0\n",
      "The output is therefore also on device=cuda:0\n"
     ]
    }
   ],
   "source": [
    "print(f'This notebook is running with device={device}')\n",
    "print(f'The model parameter tensors are also on device={next(net.parameters()).device}')\n",
    "print(f'The test image is also on device={test_image.device}')\n",
    "print(f'The output is therefore also on device={test_out.device}')"
   ]
  },
  {
   "cell_type": "markdown",
   "metadata": {},
   "source": [
    "### Notes on using course servers\n",
    "\n",
    "First, please read the [course servers guide](https://vistalab-technion.github.io/cs236781/assignments/hpc-servers) carefully.\n",
    "\n",
    "To run the experiments on the course servers, you can use the `py-sbatch.sh` script directly to perform a single experiment run in batch mode (since it runs python once), or use the `srun` command to do a single run in interactive mode. For example, running a single run of experiment 1 interactively (after `conda activate` of course):\n",
    "\n",
    "```shell\n",
    "srun -c 2 --gres=gpu:1 --pty python -m hw2.experiments run-exp -n test -K 32 64 -L 2 -P 2 -H 100\n",
    "```\n",
    "\n",
    "To perform multiple runs in batch mode with `sbatch` (e.g. for running all the configurations of an experiments), you can create your own script based on `py-sbatch.sh` and invoke whatever commands you need within it.\n",
    "\n",
    "Please don't request more than **2 CPU** cores and **1 GPU** device for your runs. The code won't be able to utilize more than that anyway, so you'll see no performance gain if you do. It will only cause delays for other students using the servers."
   ]
  },
  {
   "cell_type": "markdown",
   "metadata": {},
   "source": [
    "### General notes for running experiments\n",
    "\n",
    "- You can run the experiments on a different machine (e.g. the course servers) and copy the results (files)\n",
    "  to the `results` folder on your local machine.\n",
    "  This notebook will only display the results, not run the actual experiment code (except for a demo run).\n",
    "- It's important to give each experiment run a name as specified by the notebook instructions later on.\n",
    "  Each run has a `run_name` parameter that will also be the base name of the results file which this \n",
    "  notebook will expect to load.\n",
    "- You will implement the code to run the experiments in the `hw2/experiments.py` module.\n",
    "  This module has a CLI parser so that you can invoke it as a script and pass in all the\n",
    "  configuration parameters for a single experiment run.\n",
    "- You should use `python -m hw2.experiments run-exp` to run an experiment, and **not**\n",
    "  `python hw2/experiments.py run-exp`, regardless of how/where you run it."
   ]
  },
  {
   "cell_type": "markdown",
   "metadata": {},
   "source": [
    "### Experiment 1: Network depth and number of filters"
   ]
  },
  {
   "cell_type": "markdown",
   "metadata": {},
   "source": [
    "In this part we will test some different architecture configurations based on our `ConvClassifier` and `ResNetClassifier`.\n",
    "Specifically, we want to try different depths and number of features to see the effects these parameters have on the model's performance.\n",
    "\n",
    "To do this, we'll define two extra hyperparameters for our model, `K` (`filters_per_layer`) and `L` (`layers_per_block`).\n",
    "- `K` is a list, containing the number of filters we want to have in our conv layers.\n",
    "- `L` is the number of consecutive layers with the same number of filters to use.\n",
    "\n",
    "For example, if `K=[32, 64]` and `L=2` it means we want two conv layers with 32 filters followed by two conv layers with 64 filters. If we also use `pool_every=3`, the feature-extraction part of our model will be:\n",
    "\n",
    "    Conv(X,32)->ReLu->Conv(32,32)->ReLU->Conv(32,64)->ReLU->MaxPool->Conv(64,64)->ReLU\n",
    "    \n",
    "We'll try various values of the `K` and `L` parameters in combination and see how each architecture trains. **All other hyperparameters are up to you**, including the choice of the optimization algorithm, the learning rate, regularization and architecture hyperparams such as `pool_every` and `hidden_dims`. Note that you should select the `pool_every` parameter wisely per experiment so that you don't end up with zero-width feature maps.\n",
    "\n",
    "You can try some short manual runs to determine some good values for the hyperparameters or implement cross-validation to do it. However, the **dataset size** you test on should be large. Use at least ~20000 training images and ~6000 validation images.\n",
    "\n",
    "The important thing is that you state what you used, how you decided on it, and explain your results based on that."
   ]
  },
  {
   "cell_type": "markdown",
   "metadata": {},
   "source": [
    "First we need to write some code to run the experiment.\n",
    "\n",
    "**TODO**:\n",
    "1. Implement the `run_experiment()` function in the `hw2/experiments.py` module.\n",
    "1. If you haven't done so already, it would be an excellent idea to implement the **early stopping** feature of the `Trainer` class.\n",
    "\n",
    "The following block tests that your implementation works. It's also meant to show you that each experiment run creates a result file containing the parameters to reproduce and the `FitResult` object for plotting."
   ]
  },
  {
   "cell_type": "code",
   "execution_count": 12,
   "metadata": {},
   "outputs": [
    {
     "name": "stdout",
     "output_type": "stream",
     "text": [
      "Files already downloaded and verified\n",
      "Files already downloaded and verified\n",
      "--- EPOCH 1/10 ---\n",
      "train_batch (Avg. Loss 2.278, Accuracy 12.4): 100%|████████████████████████████████████| 10/10 [00:00<00:00, 32.04it/s]\n",
      "test_batch (Avg. Loss 2.215, Accuracy 17.5): 100%|████████████████████████████████████| 10/10 [00:00<00:00, 154.26it/s]\n",
      "train_batch (Avg. Loss 2.197, Accuracy 18.4): 100%|████████████████████████████████████| 10/10 [00:00<00:00, 49.76it/s]\n",
      "test_batch (Avg. Loss 2.112, Accuracy 19.2): 100%|████████████████████████████████████| 10/10 [00:00<00:00, 182.30it/s]\n",
      "train_batch (Avg. Loss 2.093, Accuracy 22.4): 100%|████████████████████████████████████| 10/10 [00:00<00:00, 48.67it/s]\n",
      "test_batch (Avg. Loss 2.082, Accuracy 22.5): 100%|████████████████████████████████████| 10/10 [00:00<00:00, 189.18it/s]\n",
      "train_batch (Avg. Loss 2.059, Accuracy 20.0): 100%|████████████████████████████████████| 10/10 [00:00<00:00, 49.63it/s]\n",
      "test_batch (Avg. Loss 1.997, Accuracy 30.0): 100%|████████████████████████████████████| 10/10 [00:00<00:00, 170.69it/s]\n",
      "train_batch (Avg. Loss 1.989, Accuracy 26.0): 100%|████████████████████████████████████| 10/10 [00:00<00:00, 49.63it/s]\n",
      "test_batch (Avg. Loss 2.046, Accuracy 25.8): 100%|████████████████████████████████████| 10/10 [00:00<00:00, 177.43it/s]\n",
      "train_batch (Avg. Loss 1.944, Accuracy 30.0): 100%|████████████████████████████████████| 10/10 [00:00<00:00, 51.16it/s]\n",
      "test_batch (Avg. Loss 1.713, Accuracy 38.3): 100%|████████████████████████████████████| 10/10 [00:00<00:00, 179.04it/s]\n",
      "--- EPOCH 7/10 ---\n",
      "train_batch (Avg. Loss 1.838, Accuracy 32.8): 100%|████████████████████████████████████| 10/10 [00:00<00:00, 50.13it/s]\n",
      "test_batch (Avg. Loss 1.789, Accuracy 33.3): 100%|████████████████████████████████████| 10/10 [00:00<00:00, 175.90it/s]\n",
      "train_batch (Avg. Loss 1.909, Accuracy 33.2): 100%|████████████████████████████████████| 10/10 [00:00<00:00, 48.44it/s]\n",
      "test_batch (Avg. Loss 1.780, Accuracy 32.5): 100%|████████████████████████████████████| 10/10 [00:00<00:00, 159.15it/s]\n",
      "train_batch (Avg. Loss 1.846, Accuracy 33.2): 100%|████████████████████████████████████| 10/10 [00:00<00:00, 51.02it/s]\n",
      "test_batch (Avg. Loss 1.818, Accuracy 33.3): 100%|████████████████████████████████████| 10/10 [00:00<00:00, 185.68it/s]\n",
      "--- EPOCH 10/10 ---\n",
      "train_batch (Avg. Loss 1.758, Accuracy 34.4): 100%|████████████████████████████████████| 10/10 [00:00<00:00, 51.95it/s]\n",
      "test_batch (Avg. Loss 1.907, Accuracy 28.3): 100%|████████████████████████████████████| 10/10 [00:00<00:00, 175.66it/s]\n",
      "{'num_epochs': 0, 'train_loss': [2.278109312057495, 2.197352409362793, 2.093388319015503, 2.0592381954193115, 1.9892653226852417, 1.9437109231948853, 1.838093638420105, 1.9094778299331665, 1.8455816507339478, 1.7578951120376587], 'train_acc': [12.4, 18.4, 22.4, 20.0, 26.0, 30.0, 32.8, 33.2, 33.2, 34.4], 'test_loss': [2.214958429336548, 2.1117751598358154, 2.0819435119628906, 1.996536135673523, 2.0463500022888184, 1.712776780128479, 1.7892698049545288, 1.7796815633773804, 1.818074107170105, 1.9073361158370972], 'test_acc': [17.5, 19.166666666666668, 22.5, 30.0, 25.833333333333332, 38.333333333333336, 33.333333333333336, 32.5, 33.333333333333336, 28.333333333333332]}\n",
      "*** Output file ./results\\test_run_L1_K32-64.json written\n",
      "experiment config:  {'run_name': 'test_run', 'out_dir': './results', 'seed': 42, 'device': None, 'bs_train': 50, 'bs_test': 12, 'batches': 10, 'epochs': 10, 'early_stopping': 5, 'checkpoints': None, 'lr': 0.001, 'reg': 0.001, 'filters_per_layer': [32, 64], 'pool_every': 1, 'hidden_dims': [100], 'model_type': 'resnet', 'conv_params': {'kernel_size': 3, 'stride': [1, 1], 'padding': 1}, 'activation_type': 'lrelu', 'activation_params': {'negative_slope': 0.01}, 'pooling_type': 'avg', 'pooling_params': {'kernel_size': 2}, 'batchnorm': True, 'dropout': 0.1, 'kw': {}, 'layers_per_block': 1}\n"
     ]
    },
    {
     "data": {
      "image/png": "[encoded data removed]",
      "text/plain": [
       "<Figure size 1152x720 with 4 Axes>"
      ]
     },
     "metadata": {
      "needs_background": "light"
     },
     "output_type": "display_data"
    }
   ],
   "source": [
    "import hw2.experiments as experiments\n",
    "from hw2.experiments import load_experiment\n",
    "from cs236781.plot import plot_fit\n",
    "\n",
    "# Test experiment1 implementation on a few data samples and with a small model\n",
    "experiments.run_experiment(\n",
    "    'test_run', seed=seed, bs_train=50, batches=10, epochs=10, early_stopping=5,\n",
    "    filters_per_layer=[32,64], layers_per_block=1, pool_every=1, hidden_dims=[100],\n",
    "    model_type='resnet',\n",
    ")\n",
    "\n",
    "# There should now be a file 'test_run.json' in your `results/` folder.\n",
    "# We can use it to load the results of the experiment.\n",
    "cfg, fit_res = load_experiment('results/test_run_L1_K32-64.json')\n",
    "_, _ = plot_fit(fit_res)\n",
    "\n",
    "# And `cfg` contains the exact parameters to reproduce it\n",
    "print('experiment config: ', cfg)"
   ]
  },
  {
   "cell_type": "markdown",
   "metadata": {},
   "source": [
    "We'll use the following function to load multiple experiment results and plot them together."
   ]
  },
  {
   "cell_type": "code",
   "execution_count": 13,
   "metadata": {},
   "outputs": [],
   "source": [
    "def plot_exp_results(filename_pattern, results_dir='results'):\n",
    "    fig = None\n",
    "    result_files = glob.glob(os.path.join(results_dir, filename_pattern))\n",
    "    result_files.sort()\n",
    "    if len(result_files) == 0:\n",
    "        print(f'No results found for pattern {filename_pattern}.', file=sys.stderr)\n",
    "        return\n",
    "    for filepath in result_files:\n",
    "        m = re.match('exp\\d_(\\d_)?(.*)\\.json', os.path.basename(filepath))\n",
    "        cfg, fit_res = load_experiment(filepath)\n",
    "        fig, axes = plot_fit(fit_res, fig, legend=m[2],log_loss=True)\n",
    "    del cfg['filters_per_layer']\n",
    "    del cfg['layers_per_block']\n",
    "    print('common config: ', cfg)"
   ]
  },
  {
   "cell_type": "markdown",
   "metadata": {},
   "source": [
    "#### Experiment 1.1: Varying the network depth (`L`)"
   ]
  },
  {
   "cell_type": "markdown",
   "metadata": {},
   "source": [
    "First, we'll test the effect of the network depth on training.\n",
    "\n",
    "**Configuratons**:\n",
    "- `K=32` fixed, with `L=2,4,8,16` varying per run\n",
    "- `K=64` fixed, with `L=2,4,8,16` varying per run\n",
    "\n",
    "So 8 different runs in total.\n",
    "\n",
    "**Naming runs**:\n",
    "Each run should be named `exp1_1_L{}_K{}` where the braces are placeholders for the values. For example, the first run should be named `exp1_1_L2_K32`. "
   ]
  },
  {
   "cell_type": "markdown",
   "metadata": {},
   "source": [
    "**TODO**: Run the experiment on the above configuration with the `ConvClassifier` model. Make sure the result file names are as expected. Use the following blocks to display the results."
   ]
  },
  {
   "cell_type": "code",
   "execution_count": 24,
   "metadata": {},
   "outputs": [
    {
     "name": "stderr",
     "output_type": "stream",
     "text": [
      "No results found for pattern exp1_1_L*_K32*.json.\n"
     ]
    }
   ],
   "source": [
    "plot_exp_results('exp1_1_L*_K32*.json')"
   ]
  },
  {
   "cell_type": "code",
   "execution_count": null,
   "metadata": {},
   "outputs": [],
   "source": [
    "plot_exp_results('exp1_1_L*_K64*.json')"
   ]
  },
  {
   "cell_type": "markdown",
   "metadata": {},
   "source": [
    "#### Experiment 1.2: Varying the number of filters per layer (`K`)"
   ]
  },
  {
   "cell_type": "markdown",
   "metadata": {},
   "source": [
    "Now we'll test the effect of the number of convolutional filters in each layer.\n",
    "\n",
    "**Configuratons**:\n",
    "- `L=2` fixed, with `K=[32],[64],[128],[256]` varying per run.\n",
    "- `L=4` fixed, with `K=[32],[64],[128],[256]` varying per run.\n",
    "- `L=8` fixed, with `K=[32],[64],[128],[256]` varying per run.\n",
    "\n",
    "So 12 different runs in total. To clarify, each run `K` takes the value of a list with a single element.\n",
    "\n",
    "**Naming runs**:\n",
    "Each run should be named `exp1_2_L{}_K{}` where the braces are placeholders for the values. For example, the first run should be named `exp1_2_L2_K32`. "
   ]
  },
  {
   "cell_type": "markdown",
   "metadata": {},
   "source": [
    "**TODO**: Run the experiment on the above configuration with the `ConvClassifier` model. Make sure the result file names are as expected. Use the following blocks to display the results."
   ]
  },
  {
   "cell_type": "code",
   "execution_count": null,
   "metadata": {},
   "outputs": [],
   "source": [
    "plot_exp_results('exp1_2_L2*.json')"
   ]
  },
  {
   "cell_type": "code",
   "execution_count": null,
   "metadata": {},
   "outputs": [],
   "source": [
    "plot_exp_results('exp1_2_L4*.json')"
   ]
  },
  {
   "cell_type": "code",
   "execution_count": null,
   "metadata": {},
   "outputs": [],
   "source": [
    "plot_exp_results('exp1_2_L8*.json')"
   ]
  },
  {
   "cell_type": "markdown",
   "metadata": {},
   "source": [
    "#### Experiment 1.3: Varying both the number of filters (`K`) and network depth (`L`)"
   ]
  },
  {
   "cell_type": "markdown",
   "metadata": {},
   "source": [
    "Now we'll test the effect of the number of convolutional filters in each layer.\n",
    "\n",
    "**Configuratons**:\n",
    "- `K=[64, 128, 256]` fixed with `L=1,2,3,4` varying per run.\n",
    "\n",
    "So 4 different runs in total. To clarify, each run `K` takes the value of an array with a three elements.\n",
    "\n",
    "**Naming runs**:\n",
    "Each run should be named `exp1_3_L{}_K{}-{}-{}` where the braces are placeholders for the values. For example, the first run should be named `exp1_3_L1_K64-128-256`. "
   ]
  },
  {
   "cell_type": "markdown",
   "metadata": {},
   "source": [
    "**TODO**: Run the experiment on the above configuration  with the `ConvClassifier` model. Make sure the result file names are as expected. Use the following blocks to display the results."
   ]
  },
  {
   "cell_type": "code",
   "execution_count": null,
   "metadata": {},
   "outputs": [],
   "source": [
    "plot_exp_results('exp1_3*.json')"
   ]
  },
  {
   "cell_type": "markdown",
   "metadata": {},
   "source": [
    "#### Experiment 1.4: Adding depth with Residual Networks"
   ]
  },
  {
   "cell_type": "markdown",
   "metadata": {},
   "source": [
    "Now we'll test the effect of skip connections on the training and performance.\n",
    "\n",
    "**Configuratons**:\n",
    "- `K=[32]` fixed with `L=8,16,32` varying per run.\n",
    "- `K=[64, 128, 256]` fixed with `L=2,4,8` varying per run.\n",
    "\n",
    "So 6 different runs in total.\n",
    "\n",
    "**Naming runs**:\n",
    "Each run should be named `exp1_4_L{}_K{}-{}-{}` where the braces are placeholders for the values."
   ]
  },
  {
   "cell_type": "markdown",
   "metadata": {},
   "source": [
    "**TODO**: Run the experiment on the above configuration with the `ResNetClassifier` model. Make sure the result file names are as expected. Use the following blocks to display the results."
   ]
  },
  {
   "cell_type": "code",
   "execution_count": null,
   "metadata": {},
   "outputs": [],
   "source": [
    "plot_exp_results('exp1_4_L*_K32.json')"
   ]
  },
  {
   "cell_type": "code",
   "execution_count": null,
   "metadata": {},
   "outputs": [],
   "source": [
    "plot_exp_results('exp1_4_L*_K64*.json')"
   ]
  },
  {
   "cell_type": "markdown",
   "metadata": {},
   "source": [
    "### Experiment 2: Custom network architecture"
   ]
  },
  {
   "cell_type": "markdown",
   "metadata": {},
   "source": [
    "In this part you will create your own custom network architecture based on the `ConvClassifier` you've implemented.\n",
    "\n",
    "Try to overcome some of the limitations your experiment 1 results, using what you learned in the course.\n",
    "\n",
    "You are free to add whatever you like to the model, for instance \n",
    "- Batch normalization\n",
    "- Dropout layers\n",
    "- Skip connections, bottlenecks\n",
    "- Change kernel spatial sizes and strides\n",
    "- Custom blocks or ideas from known architectures (e.g. inception module)\n",
    "\n",
    "Just make sure to keep the model's `init` API identical (or maybe just add parameters)."
   ]
  },
  {
   "cell_type": "markdown",
   "metadata": {},
   "source": [
    "**TODO**: Implement your custom architecture in the `YourCodeNet` class within the `hw2/cnn.py` module."
   ]
  },
  {
   "cell_type": "code",
   "execution_count": null,
   "metadata": {},
   "outputs": [],
   "source": [
    "net = cnn.YourCodeNet((3,100,100), 10, channels=[32]*4, pool_every=2, hidden_dims=[100]*2)\n",
    "print(net)\n",
    "\n",
    "test_image = torch.randint(low=0, high=256, size=(3, 100, 100), dtype=torch.float).unsqueeze(0)\n",
    "test_out = net(test_image)\n",
    "print('out =', test_out)"
   ]
  },
  {
   "cell_type": "markdown",
   "metadata": {},
   "source": [
    "#### Experiment 2 Configuration"
   ]
  },
  {
   "cell_type": "markdown",
   "metadata": {},
   "source": [
    "Run your custom model on at least the following:\n",
    "\n",
    "**Configuratons**:\n",
    "- `K=[32, 64, 128]` fixed with `L=3,6,9,12` varying per run.\n",
    "\n",
    "So 4 different runs in total. To clarify, each run `K` takes the value of an array with a three elements.\n",
    "\n",
    "If you want, you can add some extra runs following the same pattern.\n",
    "Try to see how deep a model you can train.\n",
    "\n",
    "**Naming runs**:\n",
    "Each run should be named `exp2_L{}_K{}-{}-{}-{}` where the braces are placeholders for the values. For example, the first run should be named `exp2_L3_K32-64-128`. "
   ]
  },
  {
   "cell_type": "markdown",
   "metadata": {},
   "source": [
    "**TODO**: Run the experiment on the above configuration with the `YourCodeNet` model. Make sure the result file names are as expected. Use the following blocks to display the results."
   ]
  },
  {
   "cell_type": "code",
   "execution_count": null,
   "metadata": {},
   "outputs": [],
   "source": [
    "plot_exp_results('exp2*.json')"
   ]
  },
  {
   "cell_type": "markdown",
   "metadata": {},
   "source": [
    "## Questions\n",
    "<a id=part3_4></a>"
   ]
  },
  {
   "cell_type": "markdown",
   "metadata": {},
   "source": [
    "**TODO** Answer the following questions. Write your answers in the appropriate variables in the module `hw2/answers.py`."
   ]
  },
  {
   "cell_type": "code",
   "execution_count": null,
   "metadata": {},
   "outputs": [],
   "source": [
    "from cs236781.answers import display_answer\n",
    "import hw2.answers"
   ]
  },
  {
   "cell_type": "markdown",
   "metadata": {},
   "source": [
    "### Question 1\n",
    "\n",
    "Consider the bottleneck block from the right side of the ResNet diagram above.\n",
    "Compare it to a regular block that performs a two 3x3 convs directly on the 256-channel input (i.e. as shown in the left side of the diagram, with a different number of channels).\n",
    "Explain the differences between the regular block and the bottleneck block in terms of:\n",
    "\n",
    "1. Number of parameters. Calculate the exact numbers for these two examples.\n",
    "2. Number of floating point operations required to compute an output (qualitative assessment).\n",
    "3. Ability to combine the input: (1) spatially (within feature maps); (2) across feature maps.\n"
   ]
  },
  {
   "cell_type": "code",
   "execution_count": null,
   "metadata": {},
   "outputs": [],
   "source": [
    "display_answer(hw2.answers.part3_q1)"
   ]
  },
  {
   "cell_type": "markdown",
   "metadata": {},
   "source": [
    "### Question 2 \n",
    "\n",
    "Analyze your results from experiment 1.1. In particular,\n",
    "1.  Explain the effect of depth on the accuracy. What depth produces the best results and why do you think that's the case?\n",
    "1. Were there values of `L` for which the network wasn't trainable? what causes this? Suggest two things which may be done to resolve it at least partially."
   ]
  },
  {
   "cell_type": "code",
   "execution_count": null,
   "metadata": {},
   "outputs": [],
   "source": [
    "display_answer(hw2.answers.part3_q2)"
   ]
  },
  {
   "cell_type": "markdown",
   "metadata": {},
   "source": [
    "### Question 3 \n",
    "\n",
    "Analyze your results from experiment 1.2. In particular, compare to the results of experiment 1.1."
   ]
  },
  {
   "cell_type": "code",
   "execution_count": null,
   "metadata": {},
   "outputs": [],
   "source": [
    "display_answer(hw2.answers.part3_q3)"
   ]
  },
  {
   "cell_type": "markdown",
   "metadata": {},
   "source": [
    "### Question 4 \n",
    "\n",
    "Analyze your results from experiment 1.3."
   ]
  },
  {
   "cell_type": "code",
   "execution_count": null,
   "metadata": {},
   "outputs": [],
   "source": [
    "display_answer(hw2.answers.part3_q4)"
   ]
  },
  {
   "cell_type": "markdown",
   "metadata": {},
   "source": [
    "### Question 5\n",
    "\n",
    "Analyze your results from experiment 1.4. Compare to experiment 1.1 and 1.3."
   ]
  },
  {
   "cell_type": "code",
   "execution_count": null,
   "metadata": {},
   "outputs": [],
   "source": [
    "display_answer(hw2.answers.part3_q5)"
   ]
  },
  {
   "cell_type": "markdown",
   "metadata": {},
   "source": [
    "### Question 6\n",
    "\n",
    "1. Explain your modifications to the architecture which you implemented in the `YourCodeNet` class.\n",
    "2. Analyze the results of experiment 2. Compare to experiment 1."
   ]
  },
  {
   "cell_type": "code",
   "execution_count": null,
   "metadata": {},
   "outputs": [],
   "source": [
    "display_answer(hw2.answers.part3_q6)"
   ]
  }
 ],
 "metadata": {
  "kernelspec": {
   "display_name": "Python 3",
   "language": "python",
   "name": "python3"
  },
  "language_info": {
   "codemirror_mode": {
    "name": "ipython",
    "version": 3
   },
   "file_extension": ".py",
   "mimetype": "text/x-python",
   "name": "python",
   "nbconvert_exporter": "python",
   "pygments_lexer": "ipython3",
   "version": "3.8.6"
  }
 },
 "nbformat": 4,
 "nbformat_minor": 4
}
